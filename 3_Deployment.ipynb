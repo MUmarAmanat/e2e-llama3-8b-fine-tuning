{
 "cells": [
  {
   "cell_type": "code",
   "execution_count": null,
   "id": "de5767d6-92ae-4896-bd26-a3fc74731fd7",
   "metadata": {
    "tags": []
   },
   "outputs": [],
   "source": [
    "%pip install peft"
   ]
  },
  {
   "cell_type": "code",
   "execution_count": null,
   "id": "7cd582d4-ab9c-4f05-959d-cd51f780df99",
   "metadata": {
    "tags": []
   },
   "outputs": [],
   "source": [
    "import pickle\n",
    "import sagemaker\n",
    "import pandas as pd\n",
    "import boto3\n",
    "import io\n",
    "import os\n",
    "import torch\n",
    "import torch.nn.functional as F\n",
    "import numpy as np\n",
    "\n",
    "from sklearn.metrics import f1_score, confusion_matrix, classification_report, balanced_accuracy_score, accuracy_score\n",
    "\n",
    "from peft import LoraConfig, prepare_model_for_kbit_training, get_peft_model\n",
    "from transformers import (\n",
    "    AutoModelForSequenceClassification,\n",
    "    AutoTokenizer,\n",
    "    TrainingArguments,\n",
    "    Trainer,\n",
    "    DataCollatorWithPadding\n",
    ")\n",
    "from peft import AutoPeftModelForSequenceClassification\n",
    "from peft import PeftModel  \n",
    "from sagemaker.huggingface import HuggingFaceModel\n",
    "from huggingface_hub import notebook_login"
   ]
  },
  {
   "cell_type": "code",
   "execution_count": 3,
   "id": "159fa856-0f86-4107-8151-2556159bd77d",
   "metadata": {
    "tags": []
   },
   "outputs": [],
   "source": [
    "NUM_LABELS = 15"
   ]
  },
  {
   "cell_type": "code",
   "execution_count": null,
   "id": "4e73189f-cd78-44ec-83ca-571b5affae64",
   "metadata": {},
   "outputs": [],
   "source": []
  },
  {
   "cell_type": "markdown",
   "id": "0af59d09-f76b-40f8-a837-d34a8a970c41",
   "metadata": {},
   "source": [
    "## Login to HuggingFace for a gated model"
   ]
  },
  {
   "cell_type": "code",
   "execution_count": null,
   "id": "190aeeb7-b24f-4c74-a4db-07555cbc9434",
   "metadata": {
    "tags": []
   },
   "outputs": [],
   "source": [
    "notebook_login()"
   ]
  },
  {
   "cell_type": "markdown",
   "id": "bb5d22c9-badb-4e80-8603-c877b89848e4",
   "metadata": {
    "tags": []
   },
   "source": [
    "## Copy Model from S3"
   ]
  },
  {
   "cell_type": "code",
   "execution_count": 1,
   "id": "4a6a0355-c83e-41a7-8d97-348ced283938",
   "metadata": {
    "tags": []
   },
   "outputs": [],
   "source": [
    "!aws s3 cp s3://<s3-model-path>/output/model.tar.gz ./"
   ]
  },
  {
   "cell_type": "code",
   "execution_count": null,
   "id": "e879d128-e5dc-4630-b7f5-14d34d99c9e1",
   "metadata": {},
   "outputs": [],
   "source": []
  },
  {
   "cell_type": "markdown",
   "id": "d77285e9-8fe2-48ea-a498-6d30203d5a80",
   "metadata": {},
   "source": [
    "## Unzip .tar"
   ]
  },
  {
   "cell_type": "code",
   "execution_count": 7,
   "id": "0bf3e3ff-442c-4eb0-b659-69b3be0b54b7",
   "metadata": {
    "tags": []
   },
   "outputs": [],
   "source": [
    "!mkdir ./llama_3b_ft"
   ]
  },
  {
   "cell_type": "code",
   "execution_count": null,
   "id": "3b8e4cb8-c094-4cd8-af10-1c33e216af38",
   "metadata": {
    "tags": []
   },
   "outputs": [],
   "source": [
    "!tar -xvzf ./model.tar.gz -C ./llama_3b_ft/ --warning=no-unknown-keyword"
   ]
  },
  {
   "cell_type": "code",
   "execution_count": null,
   "id": "7a781158-b16c-4fde-b863-bc3c2529610a",
   "metadata": {},
   "outputs": [],
   "source": []
  },
  {
   "cell_type": "markdown",
   "id": "0c054ea2-5a50-435d-967a-41eacdf201a1",
   "metadata": {},
   "source": [
    "## Load Peft Model"
   ]
  },
  {
   "cell_type": "code",
   "execution_count": null,
   "id": "622c01ef-cfb7-4edf-a6f8-f76764e152dc",
   "metadata": {
    "tags": []
   },
   "outputs": [],
   "source": [
    "adapter_model = AutoPeftModelForSequenceClassification.from_pretrained(\"./llama_3b_ft/\",\n",
    "                                                              num_labels=NUM_LABELS)"
   ]
  },
  {
   "cell_type": "code",
   "execution_count": null,
   "id": "46aa72ae-d4c0-4f84-b558-2b8781b1380e",
   "metadata": {},
   "outputs": [],
   "source": []
  },
  {
   "cell_type": "markdown",
   "id": "f613166a-17bd-402a-b056-339af6e61939",
   "metadata": {
    "tags": []
   },
   "source": [
    "## Load category map\n",
    "Load locally or from s3"
   ]
  },
  {
   "cell_type": "code",
   "execution_count": 7,
   "id": "929afefd-dcff-480a-b179-cced99fe5549",
   "metadata": {
    "tags": []
   },
   "outputs": [],
   "source": [
    "with open('./job_category.pickle', 'rb') as fp:\n",
    "    category_map = pickle.load(fp)\n"
   ]
  },
  {
   "cell_type": "code",
   "execution_count": null,
   "id": "404e2c8a-51aa-4338-a01b-b5799f79559c",
   "metadata": {},
   "outputs": [],
   "source": []
  },
  {
   "cell_type": "code",
   "execution_count": null,
   "id": "381fe443-5d2f-4a64-906d-39b6113669d4",
   "metadata": {},
   "outputs": [],
   "source": []
  },
  {
   "cell_type": "markdown",
   "id": "7e8e1735-4aec-4319-847c-cac489ee9672",
   "metadata": {},
   "source": [
    "## Load Huggingface model"
   ]
  },
  {
   "cell_type": "code",
   "execution_count": 8,
   "id": "afd9a19d-e5b0-4f50-a0a5-6428a8da72d0",
   "metadata": {
    "tags": []
   },
   "outputs": [],
   "source": [
    "PEFT_MODEL_ID = \"./llama_3b_ft\""
   ]
  },
  {
   "cell_type": "code",
   "execution_count": null,
   "id": "4f0875f6-27e7-48af-bac4-709d100db392",
   "metadata": {
    "tags": []
   },
   "outputs": [],
   "source": [
    "model = AutoPeftModelForSequenceClassification.from_pretrained(PEFT_MODEL_ID,  num_labels=NUM_LABELS)"
   ]
  },
  {
   "cell_type": "code",
   "execution_count": null,
   "id": "e5ff40ca-2bf8-4653-8409-8a33f2341d8f",
   "metadata": {},
   "outputs": [],
   "source": []
  },
  {
   "cell_type": "markdown",
   "id": "c74a6f0c-23f7-4739-ae31-4ea95fde3def",
   "metadata": {},
   "source": [
    "## Merging Peft Adapter and Model"
   ]
  },
  {
   "cell_type": "code",
   "execution_count": 10,
   "id": "6b41b7e5-8e95-4e28-b248-a6e3884de601",
   "metadata": {
    "tags": []
   },
   "outputs": [],
   "source": [
    "full_model = model.merge_and_unload()"
   ]
  },
  {
   "cell_type": "code",
   "execution_count": null,
   "id": "18b5c8fe-87e1-40b2-9b8d-434642c904b9",
   "metadata": {},
   "outputs": [],
   "source": []
  },
  {
   "cell_type": "markdown",
   "id": "503e5bde-8930-4fcc-b776-589db7733421",
   "metadata": {},
   "source": [
    "## Setting labels "
   ]
  },
  {
   "cell_type": "code",
   "execution_count": 12,
   "id": "45126b6f-ff43-45be-a8d8-2b7cc24cb2e2",
   "metadata": {
    "tags": []
   },
   "outputs": [],
   "source": [
    "full_model.config.id2label = category_map\n",
    "full_model.config.label2id = dict((v,k) for k,v in category_map.items())"
   ]
  },
  {
   "cell_type": "code",
   "execution_count": null,
   "id": "1c93303e-cf41-47dd-a2ff-914bc7c7b150",
   "metadata": {
    "tags": []
   },
   "outputs": [],
   "source": []
  },
  {
   "cell_type": "markdown",
   "id": "1f6a1372-0d25-4d16-842d-4f423a0d2ed2",
   "metadata": {},
   "source": [
    "## Save Fine-tuned Model"
   ]
  },
  {
   "cell_type": "code",
   "execution_count": 13,
   "id": "6151c063-7c11-4bd4-96b2-784ee0afc3e7",
   "metadata": {
    "tags": []
   },
   "outputs": [],
   "source": [
    "full_model.save_pretrained(\"./llama_3b_ft\")"
   ]
  },
  {
   "cell_type": "code",
   "execution_count": null,
   "id": "a3cee6f9-330b-4478-b866-cbbb1fa20b4b",
   "metadata": {},
   "outputs": [],
   "source": []
  },
  {
   "cell_type": "markdown",
   "id": "e7f0bbbc-1993-402c-a74e-8cf2b3620c26",
   "metadata": {},
   "source": [
    "## Testing Merged Model"
   ]
  },
  {
   "cell_type": "code",
   "execution_count": null,
   "id": "952e8631-b78a-4b4b-81cd-52fc5e88d1dc",
   "metadata": {
    "tags": []
   },
   "outputs": [],
   "source": [
    "tokenizer = AutoTokenizer.from_pretrained(\"meta-llama/Meta-Llama-3-8B\", \n",
    "                                          return_tensors=\"pt\", padding=True, \n",
    "                                          truncation=True, max_length=512)"
   ]
  },
  {
   "cell_type": "code",
   "execution_count": 25,
   "id": "019d0796-0f50-43f4-a188-5343673cbc40",
   "metadata": {
    "tags": []
   },
   "outputs": [],
   "source": [
    "inp = \"\"\"JOB DESCRIPTION:\n",
    "\n",
    "Strong framework outside of iOS is always a plus\n",
    "\n",
    "iOS experience and generalist engineers with backgrounds in related technologies is a plus\n",
    "\n",
    "A disciplined approach to development, documentation and file structure\n",
    "\n",
    "Strong visual design sense and excellent taste\n",
    "\n",
    "A constant desire to improve, learn more and take things higher\n",
    "\n",
    "An excellent understanding of networking, mobile network issues, concurrency and threading\n",
    "\n",
    "Experience working with internationalized apps\n",
    "\n",
    "RESPONSIBILITIES\n",
    "Design and build advanced applications for the iOS platform.\n",
    "Collaborate with cross-functional teams to define, design, and ship new features..\n",
    "Work on bug fixing and improving application performance.\n",
    "Continuously discover, evaluate, and implement new technologies to maximize development efficiency.\n",
    "Have published one or more iOS apps in the app store.\n",
    "A deep familiarity with Objective-C and Cocoa Touch.\n",
    "Experience working with iOS frameworks such as Core Data, Core Animation, Core Graphics and Core Text.\n",
    "Experience with third-party libraries and APIs.\n",
    "Working knowledge of the general mobile landscape, architectures, trends, and emerging technologies.\n",
    "Solid understanding of the full mobile development life cycle.\n",
    "Responsible for working on different layers of the iOS apps.\n",
    "Help architect and maintain our set of native mobile applications.\"\"\""
   ]
  },
  {
   "cell_type": "code",
   "execution_count": null,
   "id": "0236fe4f-c801-4385-a4b9-33b71773b215",
   "metadata": {
    "tags": []
   },
   "outputs": [],
   "source": [
    "inputs = tokenizer(inp, return_tensors=\"pt\", truncation=True, max_length=512)\n",
    "out = full_model(**inputs)\n",
    "np.argmax(out.logits.detach().numpy(), axis=1)"
   ]
  },
  {
   "cell_type": "code",
   "execution_count": null,
   "id": "888d0390-da7d-446e-9681-b6f7154a2227",
   "metadata": {
    "tags": []
   },
   "outputs": [],
   "source": [
    "category_map"
   ]
  },
  {
   "cell_type": "code",
   "execution_count": null,
   "id": "55a09c7f-0e60-4c23-a102-79431a60ddd2",
   "metadata": {},
   "outputs": [],
   "source": []
  },
  {
   "cell_type": "markdown",
   "id": "494a043a-d221-48ef-9b4f-da58d1066d4a",
   "metadata": {},
   "source": [
    "## Create tarball for Deployment\n",
    "- First go into model directory using terminal\n",
    "- create a tar ball \n",
    "- upload to s3\n",
    "\n",
    "**NOTE**: Better to do it from terminal"
   ]
  },
  {
   "cell_type": "code",
   "execution_count": null,
   "id": "2cea6f8e-5288-4156-ac58-fcfc5455e3d4",
   "metadata": {
    "tags": []
   },
   "outputs": [],
   "source": [
    "!pwd"
   ]
  },
  {
   "cell_type": "code",
   "execution_count": 1,
   "id": "a804ae71-211f-4185-bcf9-bb30c88cb8e3",
   "metadata": {
    "tags": []
   },
   "outputs": [],
   "source": [
    "# asdsad"
   ]
  },
  {
   "cell_type": "code",
   "execution_count": null,
   "id": "5751b210-07dd-463a-b5b8-b9a9f5ccb81e",
   "metadata": {
    "tags": []
   },
   "outputs": [],
   "source": [
    "# !tar zcvf model.tar.gz * --exclude='checkpoint-*'\n",
    "# tar zcvf model.tar.gz * --exclude='checkpoint-*' --checkpoint=1000"
   ]
  },
  {
   "cell_type": "markdown",
   "id": "c6b7a242-f6cf-4f0c-b1c1-04066a70be9d",
   "metadata": {},
   "source": [
    "### upload to s3"
   ]
  },
  {
   "cell_type": "code",
   "execution_count": 2,
   "id": "bd5049d2-23ab-434f-8988-bd6eb7c2f196",
   "metadata": {
    "tags": []
   },
   "outputs": [],
   "source": [
    "!aws s3 cp ./llama_3b_ft/model.tar.gz s3://<S3-PATH>/llama_3b_ft/"
   ]
  },
  {
   "cell_type": "code",
   "execution_count": 4,
   "id": "e761c7a7-8b35-4ce9-a05e-2079e98d7f6d",
   "metadata": {
    "tags": []
   },
   "outputs": [],
   "source": [
    "env = {'HF_TASK': 'text-classification', \"HF_TOKEN\": \"<SPECIFY-YOUR-HG-TOKEN>\"}"
   ]
  },
  {
   "cell_type": "code",
   "execution_count": 5,
   "id": "fa9b0467-25f6-47cb-b1cc-7ed7c12e857f",
   "metadata": {
    "tags": []
   },
   "outputs": [],
   "source": [
    "role = sagemaker.get_execution_role()"
   ]
  },
  {
   "cell_type": "markdown",
   "id": "3a94c900-1cff-4187-afd0-fbf7373e1ed6",
   "metadata": {},
   "source": [
    "Use the same version of everything used during trianing for consistency"
   ]
  },
  {
   "cell_type": "code",
   "execution_count": null,
   "id": "00e6b475-3ce0-4d2d-8b49-c2a0d0e276a1",
   "metadata": {
    "tags": []
   },
   "outputs": [],
   "source": [
    "# create Hugging Face Model Class\n",
    "huggingface_model = HuggingFaceModel(model_data=\"s3://<S3-PATH>/llama_3b_ft/model.tar.gz\",  # path to your trained sagemaker model\n",
    "                                     role=role, # iam role with permissions to create an Endpoint\n",
    "                                     transformers_version=\"4.37\", # transformers version used\n",
    "                                     pytorch_version=\"2.1\", # pytorch version used\n",
    "                                     py_version=\"py310\", # python version of the DLC,\n",
    "                                     env=env,\n",
    "                                )\n",
    "\n",
    "# deploy model to SageMaker Inference\n",
    "predictor = huggingface_model.deploy(initial_instance_count=1,\n",
    "                                     instance_type=\"ml.p3.8xlarge\",\n",
    "                                     volume_size=256  ## Specify atleast 100 GBs otherwise it won't load model correctly\n",
    "                                )"
   ]
  },
  {
   "cell_type": "code",
   "execution_count": null,
   "id": "899fce36-e02d-4cbe-81f2-17a80d3ba51a",
   "metadata": {},
   "outputs": [],
   "source": []
  },
  {
   "cell_type": "code",
   "execution_count": null,
   "id": "967362ae-3f22-4839-822c-a3a73c221ad2",
   "metadata": {},
   "outputs": [],
   "source": []
  },
  {
   "cell_type": "code",
   "execution_count": 24,
   "id": "f303ecb3-aba1-4ba2-94f8-4f485dd9571d",
   "metadata": {
    "tags": []
   },
   "outputs": [],
   "source": [
    "inp = \"\"\"Experience: 2-5 years\n",
    "\n",
    "Job Location:- Aurangabad/Pune\n",
    "\n",
    "Vacancies:- 02\n",
    "\n",
    "Note: Fresher Do Not Apply\n",
    "\n",
    "Job Description\n",
    "\n",
    "Looking for experienced developers who are passionate to work with an IT / Software Development company.\n",
    "\n",
    "Basic Requirements:\n",
    "Having prior working experience on WordPress\n",
    "Should be proficient verbally and written communication skills.\n",
    "Should be capable of writing an efficient code using best software development with good coding practices.\n",
    "Able to integrate data from various back-end services and databases.\n",
    "\n",
    "\n",
    "â€¢ WordPress\n",
    "â€¢ Plugin-in development\n",
    "â€¢ PHP\n",
    "â€¢ HTML/HTML5\n",
    "â€¢ Javascript/jQuery\n",
    "â€¢ Bootstrap\n",
    "â€¢ MySQL\n",
    "\n",
    "Qualification:\n",
    "â€¢ UG: B.Sc (CS/CSC/IT), BCA, BCS, BE, B.Tech (CS/CSE/IT)\n",
    "â€¢ M.Sc (CS/CSC/IT), MCA, MCS, ME, M.Tech (CS/CSE/IT)\"\"\""
   ]
  },
  {
   "cell_type": "code",
   "execution_count": 25,
   "id": "bf6836d3-9f3a-488d-87b1-b5508c794f0d",
   "metadata": {
    "tags": []
   },
   "outputs": [],
   "source": [
    "data = {\n",
    "        \"inputs\": inp,\n",
    "        \"parameters\": {\n",
    "                       \"max_length\": 512,\n",
    "                        \"truncation\": True,\n",
    "                        \"hf_token\": \"<HF-TOKEN>\"\n",
    "                      }\n",
    "}"
   ]
  },
  {
   "cell_type": "code",
   "execution_count": 3,
   "id": "51bd3764-728d-427c-9fef-c713314586a8",
   "metadata": {
    "tags": []
   },
   "outputs": [],
   "source": [
    "predictor.predict(data)"
   ]
  },
  {
   "cell_type": "code",
   "execution_count": null,
   "id": "c23eec26-ffee-4eec-8be3-8502454a195a",
   "metadata": {},
   "outputs": [],
   "source": []
  },
  {
   "cell_type": "code",
   "execution_count": 27,
   "id": "c86c419b-c137-42b7-bad3-cd0ef1e3f62c",
   "metadata": {
    "tags": []
   },
   "outputs": [],
   "source": [
    "predictor.delete_model()"
   ]
  },
  {
   "cell_type": "code",
   "execution_count": 28,
   "id": "d9b0fd87-43a3-45fc-9737-3b15194534b9",
   "metadata": {
    "tags": []
   },
   "outputs": [],
   "source": [
    "predictor.delete_endpoint()"
   ]
  },
  {
   "cell_type": "code",
   "execution_count": null,
   "id": "0548f3fe-0f27-4e51-87a7-6535d98b5ce9",
   "metadata": {},
   "outputs": [],
   "source": []
  },
  {
   "cell_type": "code",
   "execution_count": null,
   "id": "ba80067b-16f3-4ed5-8d0a-b21465950605",
   "metadata": {
    "tags": []
   },
   "outputs": [],
   "source": [
    "inputs = tokenizer(inp, return_tensors=\"pt\", padding=True, truncation=True, max_length=512)\n",
    "out = full_model(**inputs)\n",
    "np.argmax(out.logits.detach().numpy(), axis=1)\n",
    "\n",
    "#"
   ]
  },
  {
   "cell_type": "code",
   "execution_count": null,
   "id": "7d94be4f-51b1-4bc0-b739-e69562cc28a1",
   "metadata": {
    "tags": []
   },
   "outputs": [],
   "source": [
    "category_map"
   ]
  },
  {
   "cell_type": "code",
   "execution_count": null,
   "id": "7a8e49e0-4d36-4575-b0d0-4085be1e4bbb",
   "metadata": {
    "tags": []
   },
   "outputs": [],
   "source": []
  },
  {
   "cell_type": "code",
   "execution_count": null,
   "id": "8d2b7cb6-448b-4761-ae83-83e704f03f97",
   "metadata": {},
   "outputs": [],
   "source": []
  }
 ],
 "metadata": {
  "kernelspec": {
   "display_name": "venv3_11",
   "language": "python",
   "name": "python3"
  },
  "language_info": {
   "codemirror_mode": {
    "name": "ipython",
    "version": 3
   },
   "file_extension": ".py",
   "mimetype": "text/x-python",
   "name": "python",
   "nbconvert_exporter": "python",
   "pygments_lexer": "ipython3",
   "version": "3.11.0"
  }
 },
 "nbformat": 4,
 "nbformat_minor": 5
}
